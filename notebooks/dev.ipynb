{
 "cells": [
  {
   "cell_type": "code",
   "execution_count": 1,
   "metadata": {},
   "outputs": [],
   "source": [
    "# Setup\n",
    "from notebook_utils import resolve_paths_from_parent_directory\n",
    "\n",
    "# auto reload notebook deps\n",
    "%reload_ext autoreload\n",
    "%autoreload 2\n",
    "resolve_paths_from_parent_directory()"
   ]
  },
  {
   "cell_type": "code",
   "execution_count": 109,
   "metadata": {},
   "outputs": [],
   "source": [
    "import torch\n",
    "import torch.optim as optim\n",
    "from utils import (\n",
    "    split_img, \n",
    "    ToPILImage, \n",
    "    ToTensor\n",
    ")\n",
    "from objective import (\n",
    "    LG_c,\n",
    "    LG_x,\n",
    "    LG_y,\n",
    "    LRec,\n",
    "    LOrth,\n",
    "    LCyc,\n",
    ")\n",
    "from tqdm import tqdm\n",
    "from train import train\n",
    "from model import SupUCA\n",
    "from dataset import MNISTHalves\n",
    "from torchvision import datasets\n",
    "from matplotlib import pyplot as plt\n",
    "from torch.utils.data import DataLoader"
   ]
  },
  {
   "cell_type": "code",
   "execution_count": 3,
   "metadata": {},
   "outputs": [
    {
     "name": "stderr",
     "output_type": "stream",
     "text": [
      "100%|██████████| 60000/60000 [01:02<00:00, 953.29it/s] \n",
      "100%|██████████| 10000/10000 [00:13<00:00, 724.21it/s]\n"
     ]
    }
   ],
   "source": [
    "# set device\n",
    "device = 'cuda' if torch.cuda.is_available() else 'cpu'\n",
    "\n",
    "# load training data\n",
    "train_dataset = datasets.MNIST(root='../data/', train=True, download=True)\n",
    "train_x = []\n",
    "train_y = []\n",
    "\n",
    "for i in tqdm(range(train_dataset.data.shape[0])):\n",
    "    img = ToPILImage(train_dataset.data[i])\n",
    "    x, y = split_img(img)\n",
    "    train_x.append(ToTensor(x))\n",
    "    train_y.append(ToTensor(y))\n",
    "\n",
    "train_x = torch.stack(train_x)\n",
    "train_y = torch.stack(train_y)\n",
    "\n",
    "# load test data\n",
    "test_dataset = datasets.MNIST(root='../data/', train=False, download=True)\n",
    "test_x = []\n",
    "test_y = []\n",
    "\n",
    "for i in tqdm(range(test_dataset.data.shape[0])):\n",
    "    img = ToPILImage(test_dataset.data[i])\n",
    "    x, y = split_img(img)\n",
    "    test_x.append(ToTensor(x))\n",
    "    test_y.append(ToTensor(y))\n",
    "\n",
    "test_x = torch.stack(test_x)\n",
    "test_y = torch.stack(test_y)\n",
    "\n",
    "# build datasets / data loaders\n",
    "batch_size = 128\n",
    "train_data = MNISTHalves(train_x, train_y)\n",
    "test_data = MNISTHalves(test_x, test_y)\n",
    "train_loader = DataLoader(train_data, batch_size=batch_size, shuffle=True)\n",
    "test_loader = DataLoader(test_data, batch_size=batch_size, shuffle=False)"
   ]
  },
  {
   "cell_type": "code",
   "execution_count": 4,
   "metadata": {},
   "outputs": [
    {
     "data": {
      "image/png": "[encoded data removed]",
      "text/plain": [
       "<Figure size 432x288 with 1 Axes>"
      ]
     },
     "metadata": {},
     "output_type": "display_data"
    },
    {
     "data": {
      "image/png": "[encoded data removed]",
      "text/plain": [
       "<Figure size 432x288 with 1 Axes>"
      ]
     },
     "metadata": {},
     "output_type": "display_data"
    }
   ],
   "source": [
    "x, y = split_img(ToPILImage(train_dataset.data[0]))\n",
    "\n",
    "plt.imshow(x, cmap='gray', interpolation='none')\n",
    "plt.xticks([])\n",
    "plt.yticks([])\n",
    "plt.show()\n",
    "\n",
    "plt.imshow(y, cmap='gray', interpolation='none')\n",
    "plt.xticks([])\n",
    "plt.yticks([])\n",
    "plt.show()"
   ]
  },
  {
   "cell_type": "code",
   "execution_count": 5,
   "metadata": {},
   "outputs": [
    {
     "name": "stdout",
     "output_type": "stream",
     "text": [
      "torch.Size([1, 14, 28])\n",
      "torch.Size([1, 14, 28])\n"
     ]
    }
   ],
   "source": [
    "print(ToTensor(x).shape)\n",
    "print(ToTensor(y).shape)"
   ]
  },
  {
   "cell_type": "code",
   "execution_count": 188,
   "metadata": {},
   "outputs": [],
   "source": [
    "# build model\n",
    "model = SupUCA()\n",
    "model.to(device)\n",
    "\n",
    "# set optimizer\n",
    "optimizer = optim.Adam(model.parameters(), lr=1e-2, weight_decay=1e-5)"
   ]
  },
  {
   "cell_type": "code",
   "execution_count": 189,
   "metadata": {},
   "outputs": [
    {
     "name": "stdout",
     "output_type": "stream",
     "text": [
      "epoch: 0 | train: 0.004 | test: 0.002\n",
      "epoch: 1 | train: 0.002 | test: 0.002\n",
      "epoch: 2 | train: 0.002 | test: 0.002\n",
      "epoch: 3 | train: 0.002 | test: 0.002\n",
      "epoch: 4 | train: 0.002 | test: 0.002\n",
      "epoch: 5 | train: 0.002 | test: 0.002\n",
      "epoch: 6 | train: 0.002 | test: 0.002\n",
      "epoch: 7 | train: 0.002 | test: 0.002\n",
      "epoch: 8 | train: 0.002 | test: 0.002\n",
      "epoch: 9 | train: 0.002 | test: 0.002\n",
      "epoch: 10 | train: 0.002 | test: 0.002\n",
      "epoch: 11 | train: 0.002 | test: 0.002\n",
      "epoch: 12 | train: 0.002 | test: 0.002\n",
      "epoch: 13 | train: 0.002 | test: 0.002\n",
      "epoch: 14 | train: 0.002 | test: 0.002\n",
      "epoch: 15 | train: 0.002 | test: 0.002\n",
      "epoch: 16 | train: 0.002 | test: 0.002\n",
      "epoch: 17 | train: 0.002 | test: 0.002\n",
      "epoch: 18 | train: 0.002 | test: 0.002\n",
      "epoch: 19 | train: 0.002 | test: 0.002\n",
      "epoch: 20 | train: 0.002 | test: 0.002\n",
      "epoch: 21 | train: 0.002 | test: 0.002\n",
      "epoch: 22 | train: 0.002 | test: 0.002\n",
      "epoch: 23 | train: 0.002 | test: 0.002\n",
      "epoch: 24 | train: 0.002 | test: 0.002\n",
      "epoch: 25 | train: 0.002 | test: 0.002\n",
      "epoch: 26 | train: 0.002 | test: 0.002\n",
      "epoch: 27 | train: 0.002 | test: 0.002\n",
      "epoch: 28 | train: 0.002 | test: 0.002\n",
      "epoch: 29 | train: 0.002 | test: 0.002\n",
      "epoch: 30 | train: 0.002 | test: 0.002\n",
      "epoch: 31 | train: 0.002 | test: 0.002\n",
      "epoch: 32 | train: 0.002 | test: 0.002\n",
      "epoch: 33 | train: 0.002 | test: 0.002\n",
      "epoch: 34 | train: 0.002 | test: 0.002\n",
      "epoch: 35 | train: 0.002 | test: 0.002\n",
      "epoch: 36 | train: 0.002 | test: 0.002\n",
      "epoch: 37 | train: 0.002 | test: 0.002\n",
      "epoch: 38 | train: 0.002 | test: 0.002\n",
      "epoch: 39 | train: 0.002 | test: 0.002\n",
      "epoch: 40 | train: 0.002 | test: 0.002\n",
      "epoch: 41 | train: 0.002 | test: 0.002\n",
      "epoch: 42 | train: 0.002 | test: 0.002\n",
      "epoch: 43 | train: 0.002 | test: 0.002\n",
      "epoch: 44 | train: 0.002 | test: 0.002\n",
      "epoch: 45 | train: 0.002 | test: 0.002\n",
      "epoch: 46 | train: 0.002 | test: 0.002\n",
      "epoch: 47 | train: 0.002 | test: 0.002\n",
      "epoch: 48 | train: 0.002 | test: 0.002\n",
      "epoch: 49 | train: 0.002 | test: 0.002\n"
     ]
    }
   ],
   "source": [
    "model = train(model, optimizer, train_loader, test_loader, device, epochs=50)"
   ]
  },
  {
   "cell_type": "code",
   "execution_count": 138,
   "metadata": {},
   "outputs": [
    {
     "data": {
      "text/plain": [
       "SupUCA(\n",
       "  (W_x): Linear(in_features=392, out_features=10, bias=False)\n",
       "  (W_y): Linear(in_features=392, out_features=10, bias=False)\n",
       "  (V_x): Linear(in_features=10, out_features=392, bias=False)\n",
       "  (V_y): Linear(in_features=10, out_features=392, bias=False)\n",
       ")"
      ]
     },
     "execution_count": 138,
     "metadata": {},
     "output_type": "execute_result"
    }
   ],
   "source": [
    "model"
   ]
  },
  {
   "cell_type": "code",
   "execution_count": 150,
   "metadata": {},
   "outputs": [
    {
     "data": {
      "text/plain": [
       "torch.Size([10, 392])"
      ]
     },
     "execution_count": 150,
     "metadata": {},
     "output_type": "execute_result"
    }
   ],
   "source": [
    "model.W_x.weight.shape"
   ]
  },
  {
   "cell_type": "code",
   "execution_count": null,
   "metadata": {},
   "outputs": [],
   "source": []
  },
  {
   "cell_type": "code",
   "execution_count": null,
   "metadata": {},
   "outputs": [],
   "source": [
    "# 0 0.05536247044801712 0.1000412330031395 0.10698886960744858 0.20268896222114563 407.3427734375 0.18819642066955566\n",
    "# 1 0.0581776425242424 0.10206615924835205 0.107453353703022 0.20503103733062744 472.56683349609375 0.1909014880657196\n",
    "# 2 0.047054268419742584 0.09922389686107635 0.10572079569101334 0.20069904625415802 275.2247619628906 0.18823207914829254\n",
    "# 3 0.04529514163732529 0.10040970891714096 0.10588136315345764 0.20227110385894775 272.14764404296875 0.19133839011192322\n",
    "# 4 0.04091145843267441 0.09923728555440903 0.10818449407815933 0.20469573140144348 203.96575927734375 0.19244319200515747"
   ]
  },
  {
   "cell_type": "code",
   "execution_count": 92,
   "metadata": {},
   "outputs": [],
   "source": [
    "import numpy as np"
   ]
  },
  {
   "cell_type": "code",
   "execution_count": 93,
   "metadata": {},
   "outputs": [],
   "source": [
    "A = np.array([[2, -2, 1], [1, 2, 2], [2, 1, -2]])\n",
    "A = A / 3"
   ]
  },
  {
   "cell_type": "code",
   "execution_count": 94,
   "metadata": {},
   "outputs": [],
   "source": [
    "A = torch.from_numpy(A)"
   ]
  },
  {
   "cell_type": "code",
   "execution_count": 95,
   "metadata": {},
   "outputs": [
    {
     "data": {
      "text/plain": [
       "tensor([[ 0.6667, -0.6667,  0.3333],\n",
       "        [ 0.3333,  0.6667,  0.6667],\n",
       "        [ 0.6667,  0.3333, -0.6667]], dtype=torch.float64)"
      ]
     },
     "execution_count": 95,
     "metadata": {},
     "output_type": "execute_result"
    }
   ],
   "source": [
    "A"
   ]
  },
  {
   "cell_type": "code",
   "execution_count": 96,
   "metadata": {},
   "outputs": [
    {
     "data": {
      "text/plain": [
       "tensor(4.9452e-66, dtype=torch.float64)"
      ]
     },
     "execution_count": 96,
     "metadata": {},
     "output_type": "execute_result"
    }
   ],
   "source": [
    "LOrth(A, A)"
   ]
  },
  {
   "cell_type": "code",
   "execution_count": 190,
   "metadata": {},
   "outputs": [],
   "source": [
    "top = train_data[0][0]\n",
    "bottom = train_data[0][1]\n"
   ]
  },
  {
   "cell_type": "code",
   "execution_count": 191,
   "metadata": {},
   "outputs": [
    {
     "data": {
      "image/png": "[encoded data removed]",
      "text/plain": [
       "<Figure size 432x288 with 1 Axes>"
      ]
     },
     "metadata": {},
     "output_type": "display_data"
    },
    {
     "data": {
      "image/png": "[encoded data removed]",
      "text/plain": [
       "<Figure size 432x288 with 1 Axes>"
      ]
     },
     "metadata": {},
     "output_type": "display_data"
    }
   ],
   "source": [
    "top = top.reshape(14, 28)\n",
    "top = top - top.mean()\n",
    "plt.imshow(top, cmap='gray', interpolation='none')\n",
    "plt.xticks([])\n",
    "plt.yticks([])\n",
    "plt.show()\n",
    "\n",
    "bottom = bottom.reshape(14, 28)\n",
    "bottom = bottom - bottom.mean()\n",
    "plt.imshow(bottom, cmap='gray', interpolation='none')\n",
    "plt.xticks([])\n",
    "plt.yticks([])\n",
    "plt.show()"
   ]
  },
  {
   "cell_type": "code",
   "execution_count": 192,
   "metadata": {},
   "outputs": [
    {
     "data": {
      "image/png": "[encoded data removed]",
      "text/plain": [
       "<Figure size 432x288 with 1 Axes>"
      ]
     },
     "metadata": {},
     "output_type": "display_data"
    }
   ],
   "source": [
    "test_img = train_data[0][1].reshape(1, 14 * 28)\n",
    "test_img = test_img - test_img.mean()\n",
    "test_img = test_img @ model.W_x.weight.t()\n",
    "test_img = test_img @ model.V_x.weight.t()\n",
    "test_img = test_img.reshape(14, 28).detach().numpy()\n",
    "plt.imshow(test_img, cmap='gray', interpolation='none')\n",
    "plt.xticks([])\n",
    "plt.yticks([])\n",
    "plt.show()"
   ]
  },
  {
   "cell_type": "code",
   "execution_count": null,
   "metadata": {},
   "outputs": [],
   "source": []
  }
 ],
 "metadata": {
  "interpreter": {
   "hash": "8b65d7544efd42f66859c7e192b8978c55d44b9dd211c41b3d4b3c42d18f89ee"
  },
  "kernelspec": {
   "display_name": "Python 3.8.12 64-bit ('mnist-halves': conda)",
   "language": "python",
   "name": "python3"
  },
  "language_info": {
   "codemirror_mode": {
    "name": "ipython",
    "version": 3
   },
   "file_extension": ".py",
   "mimetype": "text/x-python",
   "name": "python",
   "nbconvert_exporter": "python",
   "pygments_lexer": "ipython3",
   "version": "3.8.12"
  },
  "orig_nbformat": 4
 },
 "nbformat": 4,
 "nbformat_minor": 2
}
