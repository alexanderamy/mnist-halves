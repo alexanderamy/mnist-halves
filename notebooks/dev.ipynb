{
 "cells": [
  {
   "cell_type": "code",
   "execution_count": 1,
   "metadata": {},
   "outputs": [],
   "source": [
    "# Setup\n",
    "from notebook_utils import resolve_paths_from_parent_directory\n",
    "\n",
    "# auto reload notebook deps\n",
    "%reload_ext autoreload\n",
    "%autoreload\n",
    "resolve_paths_from_parent_directory()"
   ]
  },
  {
   "cell_type": "code",
   "execution_count": 2,
   "metadata": {},
   "outputs": [],
   "source": [
    "import torch\n",
    "import torch.optim as optim\n",
    "from utils import (\n",
    "    split_img, \n",
    "    ToPILImage, \n",
    "    ToTensor\n",
    ")\n",
    "from tqdm import tqdm\n",
    "from train import train\n",
    "from model import SupUCA\n",
    "from dataset import MNISTHalves\n",
    "from torchvision import datasets\n",
    "from matplotlib import pyplot as plt\n",
    "from torch.utils.data import DataLoader"
   ]
  },
  {
   "cell_type": "code",
   "execution_count": 3,
   "metadata": {},
   "outputs": [
    {
     "name": "stderr",
     "output_type": "stream",
     "text": [
      "100%|██████████| 60000/60000 [00:49<00:00, 1210.94it/s]\n",
      "100%|██████████| 10000/10000 [00:06<00:00, 1450.14it/s]\n"
     ]
    }
   ],
   "source": [
    "# set device\n",
    "device = 'cuda' if torch.cuda.is_available() else 'cpu'\n",
    "\n",
    "# load training data\n",
    "train_dataset = datasets.MNIST(root='../data/', train=True, download=True)\n",
    "train_x = []\n",
    "train_y = []\n",
    "\n",
    "# split training images in half\n",
    "for i in tqdm(range(train_dataset.data.shape[0])):\n",
    "    img = ToPILImage(train_dataset.data[i])\n",
    "    x, y = split_img(img)\n",
    "    train_x.append(ToTensor(x))\n",
    "    train_y.append(ToTensor(y))\n",
    "train_x = torch.stack(train_x)\n",
    "train_y = torch.stack(train_y)\n",
    "train_label = train_dataset.targets\n",
    "\n",
    "# center the training data by removing the mean\n",
    "train_x_mean = train_x.mean()\n",
    "train_y_mean = train_y.mean()\n",
    "train_x = train_x - train_x_mean\n",
    "train_y = train_y - train_y_mean\n",
    "\n",
    "# load test data\n",
    "test_dataset = datasets.MNIST(root='../data/', train=False, download=True)\n",
    "test_x = []\n",
    "test_y = []\n",
    "\n",
    "# split test images in half\n",
    "for i in tqdm(range(test_dataset.data.shape[0])):\n",
    "    img = ToPILImage(test_dataset.data[i])\n",
    "    x, y = split_img(img)\n",
    "    test_x.append(ToTensor(x))\n",
    "    test_y.append(ToTensor(y))\n",
    "test_x = torch.stack(test_x)\n",
    "test_y = torch.stack(test_y)\n",
    "test_label = test_dataset.targets\n",
    "\n",
    "# center the test data by removing the (training) mean\n",
    "test_x = test_x - train_x_mean\n",
    "test_y = test_y - train_y_mean\n",
    "\n",
    "# build datasets / data loaders\n",
    "batch_size = 32\n",
    "train_data = MNISTHalves(train_x, train_y, train_label)\n",
    "test_data = MNISTHalves(test_x, test_y, test_label)\n",
    "train_loader = DataLoader(train_data, batch_size=batch_size, shuffle=True)\n",
    "test_loader = DataLoader(test_data, batch_size=batch_size, shuffle=False)"
   ]
  },
  {
   "cell_type": "code",
   "execution_count": 13,
   "metadata": {},
   "outputs": [],
   "source": [
    "# build model\n",
    "model = SupUCA()\n",
    "model.to(device)\n",
    "\n",
    "# set optimizer\n",
    "optimizer = optim.Adam(model.parameters(), lr=1e-2, weight_decay=1e-5, amsgrad=True)\n",
    "\n",
    "# set scheduler\n",
    "step_size = 15\n",
    "gamma = 0.5\n",
    "scheduler = optim.lr_scheduler.StepLR(optimizer, step_size=step_size, gamma=gamma)"
   ]
  },
  {
   "cell_type": "code",
   "execution_count": 14,
   "metadata": {},
   "outputs": [
    {
     "name": "stdout",
     "output_type": "stream",
     "text": [
      "epoch: 0 | train: 0.085 | test: 0.016\n",
      "epoch: 1 | train: 0.014 | test: 0.014\n",
      "epoch: 2 | train: 0.013 | test: 0.014\n",
      "epoch: 3 | train: 0.013 | test: 0.014\n",
      "epoch: 4 | train: 0.013 | test: 0.013\n",
      "epoch: 5 | train: 0.013 | test: 0.013\n",
      "epoch: 6 | train: 0.012 | test: 0.013\n",
      "epoch: 7 | train: 0.012 | test: 0.013\n",
      "epoch: 8 | train: 0.012 | test: 0.013\n",
      "epoch: 9 | train: 0.012 | test: 0.013\n",
      "epoch: 10 | train: 0.012 | test: 0.013\n",
      "epoch: 11 | train: 0.012 | test: 0.013\n",
      "epoch: 12 | train: 0.012 | test: 0.013\n",
      "epoch: 13 | train: 0.012 | test: 0.013\n",
      "epoch: 14 | train: 0.012 | test: 0.013\n",
      "epoch: 15 | train: 0.012 | test: 0.013\n",
      "epoch: 16 | train: 0.012 | test: 0.013\n",
      "epoch: 17 | train: 0.012 | test: 0.013\n",
      "epoch: 18 | train: 0.012 | test: 0.013\n",
      "epoch: 19 | train: 0.012 | test: 0.013\n",
      "epoch: 20 | train: 0.012 | test: 0.013\n",
      "epoch: 21 | train: 0.012 | test: 0.013\n",
      "epoch: 22 | train: 0.012 | test: 0.013\n",
      "epoch: 23 | train: 0.012 | test: 0.013\n",
      "epoch: 24 | train: 0.012 | test: 0.013\n",
      "epoch: 25 | train: 0.012 | test: 0.013\n"
     ]
    }
   ],
   "source": [
    "model = train(model, optimizer, scheduler, train_loader, test_loader, device, epochs=26)"
   ]
  },
  {
   "cell_type": "code",
   "execution_count": 8,
   "metadata": {},
   "outputs": [],
   "source": [
    "img_idx = 8476\n",
    "top_gt = test_data[img_idx][0]\n",
    "bottom_gt = test_data[img_idx][1]"
   ]
  },
  {
   "cell_type": "code",
   "execution_count": 19,
   "metadata": {},
   "outputs": [
    {
     "name": "stdout",
     "output_type": "stream",
     "text": [
      "top\n"
     ]
    },
    {
     "data": {
      "image/png": "[encoded data removed]",
      "text/plain": [
       "<Figure size 432x288 with 1 Axes>"
      ]
     },
     "metadata": {},
     "output_type": "display_data"
    },
    {
     "name": "stdout",
     "output_type": "stream",
     "text": [
      "estimated bottom\n"
     ]
    },
    {
     "data": {
      "image/png": "[encoded data removed]",
      "text/plain": [
       "<Figure size 432x288 with 1 Axes>"
      ]
     },
     "metadata": {},
     "output_type": "display_data"
    },
    {
     "name": "stdout",
     "output_type": "stream",
     "text": [
      "ground truth bottom\n"
     ]
    },
    {
     "data": {
      "image/png": "[encoded data removed]",
      "text/plain": [
       "<Figure size 432x288 with 1 Axes>"
      ]
     },
     "metadata": {},
     "output_type": "display_data"
    },
    {
     "name": "stdout",
     "output_type": "stream",
     "text": [
      "similarity: 0.67\n"
     ]
    }
   ],
   "source": [
    "print('top')\n",
    "top_gt = top_gt.reshape(14, 28)\n",
    "plt.imshow(top_gt, cmap='gray', interpolation='none')\n",
    "plt.xticks([])\n",
    "plt.yticks([])\n",
    "plt.show()\n",
    "\n",
    "print('estimated bottom')\n",
    "top_rec = top_gt.reshape(1, 14 * 28)\n",
    "top_rec = top_rec @ model.W_x.weight.t()\n",
    "top_rec = top_rec @ model.V_y.weight.t()\n",
    "top_rec = top_rec.reshape(14, 28).detach().numpy()\n",
    "plt.imshow(top_rec, cmap='gray', interpolation='none')\n",
    "plt.xticks([])\n",
    "plt.yticks([])\n",
    "plt.show()\n",
    "\n",
    "print('ground truth bottom')\n",
    "bottom_gt = bottom_gt.reshape(14, 28)\n",
    "plt.imshow(bottom_gt, cmap='gray', interpolation='none')\n",
    "plt.xticks([])\n",
    "plt.yticks([])\n",
    "plt.show()\n",
    "\n",
    "input1 = bottom_gt.reshape(1, 14 * 28)\n",
    "input2 = top_gt.reshape(1, 14 * 28)\n",
    "input2 = input2 @ model.W_x.weight.t()\n",
    "input2 = input2 @ model.V_y.weight.t()\n",
    "input2 = input2.reshape(1, 14 * 28)\n",
    "cos = torch.nn.CosineSimilarity(dim=1, eps=1e-6)\n",
    "output = cos(input1, input2).item()\n",
    "print(f'similarity: {output:.2f}')"
   ]
  },
  {
   "cell_type": "code",
   "execution_count": 18,
   "metadata": {},
   "outputs": [],
   "source": [
    "# torch.save(model.state_dict(), '../saved_models/SupUCA.pickle')"
   ]
  }
 ],
 "metadata": {
  "interpreter": {
   "hash": "8b65d7544efd42f66859c7e192b8978c55d44b9dd211c41b3d4b3c42d18f89ee"
  },
  "kernelspec": {
   "display_name": "Python 3.8.12 64-bit ('mnist-halves': conda)",
   "language": "python",
   "name": "python3"
  },
  "language_info": {
   "codemirror_mode": {
    "name": "ipython",
    "version": 3
   },
   "file_extension": ".py",
   "mimetype": "text/x-python",
   "name": "python",
   "nbconvert_exporter": "python",
   "pygments_lexer": "ipython3",
   "version": "3.8.12"
  },
  "orig_nbformat": 4
 },
 "nbformat": 4,
 "nbformat_minor": 2
}
